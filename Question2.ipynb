{
 "cells": [
  {
   "cell_type": "code",
   "execution_count": 7,
   "metadata": {},
   "outputs": [],
   "source": [
    "def find_max_profit(jobs):\n",
    "    jobs.sort(key=lambda x: x[1])  # Sort jobs by end times\n",
    "\n",
    "    n = len(jobs)\n",
    "    dp = [0] * n\n",
    "    dp[0] = jobs[0][2]  # Initialize dp[0] with the profit of the first job\n",
    "\n",
    "    for i in range(1, n):\n",
    "        # Find the latest job that ends before the start time of the current job\n",
    "        last = None\n",
    "        for j in range(i - 1, -1, -1):\n",
    "            if jobs[j][1] <= jobs[i][0]:\n",
    "                last = j\n",
    "                break\n",
    "\n",
    "        if last is not None:\n",
    "            dp[i] = max(dp[last] + jobs[i][2], dp[i - 1])  # Include current job or exclude it\n",
    "        else:\n",
    "            dp[i] = max(jobs[i][2], dp[i - 1])  # Exclude current job\n",
    "\n",
    "    return dp[n - 1]  # Return the maximum profit"
   ]
  },
  {
   "cell_type": "code",
   "execution_count": 8,
   "metadata": {},
   "outputs": [
    {
     "name": "stdout",
     "output_type": "stream",
     "text": [
      "Maximum profit: 10\n"
     ]
    }
   ],
   "source": [
    "# Test the algorithm with the sample input\n",
    "jobs = [(1, 6, 6), (2, 5, 5), (5, 7, 5), (6, 8, 3)]\n",
    "max_profit = find_max_profit(jobs)\n",
    "print(\"Maximum profit:\", max_profit)"
   ]
  }
 ],
 "metadata": {
  "kernelspec": {
   "display_name": "Python 3",
   "language": "python",
   "name": "python3"
  },
  "language_info": {
   "codemirror_mode": {
    "name": "ipython",
    "version": 3
   },
   "file_extension": ".py",
   "mimetype": "text/x-python",
   "name": "python",
   "nbconvert_exporter": "python",
   "pygments_lexer": "ipython3",
   "version": "3.8.5"
  }
 },
 "nbformat": 4,
 "nbformat_minor": 4
}
