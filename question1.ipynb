{
  "cells": [
    {
      "cell_type": "code",
      "execution_count": 4,
      "metadata": {
        "id": "sVNw4c8fTskw"
      },
      "outputs": [],
      "source": [
        "def max_profit(jobs):\n",
        "    # sort jobs in decreasing order of profit\n",
        "    jobs.sort(key=lambda x: x[2], reverse=True)\n",
        "      # initialize empty schedule and set of used time slots\n",
        "    n=len(jobs) \n",
        "    schedule = [None] * n\n",
        "    used_slots = set()\n",
        "     # assign jobs to latest possible time slot before their deadline\n",
        "    for job in jobs:\n",
        "        for slot in range(min(job[1], n), 0, -1):\n",
        "            if slot not in used_slots:\n",
        "                schedule[slot-1] = job\n",
        "                used_slots.add(slot)\n",
        "                break\n",
        "    # compute total profit and number of assigned jobs   \n",
        "    total_profit = sum(job[2] for job in schedule if job is not None)\n",
        "    num_jobs = sum(1 for job in schedule if job is not None)\n",
        "    \n",
        "    return num_jobs, total_profit"
      ]
    },
    {
      "cell_type": "code",
      "execution_count": 5,
      "metadata": {
        "colab": {
          "base_uri": "https://localhost:8080/"
        },
        "id": "GOQqGWcCTskx",
        "outputId": "1a896be4-d8e4-4ffc-b13a-e609df438f77"
      },
      "outputs": [
        {
          "output_type": "stream",
          "name": "stdout",
          "text": [
            "Number of jobs done: 2\n",
            "Maximum profit: 60\n"
          ]
        }
      ],
      "source": [
        "jobs = [(1, 4, 20), (2, 1, 10), (3, 1, 40), (4, 1, 30)]\n",
        "num_jobs, max_profit = max_profit(jobs)\n",
        "print(\"Number of jobs done:\", num_jobs)\n",
        "print(\"Maximum profit:\", max_profit)\n"
      ]
    }
  ],
  "metadata": {
    "kernelspec": {
      "display_name": "base",
      "language": "python",
      "name": "python3"
    },
    "language_info": {
      "codemirror_mode": {
        "name": "ipython",
        "version": 3
      },
      "file_extension": ".py",
      "mimetype": "text/x-python",
      "name": "python",
      "nbconvert_exporter": "python",
      "pygments_lexer": "ipython3",
      "version": "3.9.13"
    },
    "orig_nbformat": 4,
    "colab": {
      "provenance": []
    }
  },
  "nbformat": 4,
  "nbformat_minor": 0
}