{
  "cells": [
    {
      "cell_type": "code",
      "execution_count": 1,
      "metadata": {
        "id": "sVNw4c8fTskw"
      },
      "outputs": [],
      "source": [
        "#GREEDY ALGORITHM \n",
        "def max_profit(jobs):\n",
        "# Sort jobs based on their profits in descending order\n",
        "    jobs.sort(key=lambda x: x[2], reverse=True)\n",
        "      # initialize empty schedule and set of used time slots\n",
        "    n=len(jobs) \n",
        "    schedule = [None] * n\n",
        "    used_slots = set()  # Set to keep track of used time slots\n",
        "     # assign jobs to latest possible time slot before their deadline\n",
        "    for job in jobs:\n",
        "        for slot in range(min(job[1], n), 0, -1):\n",
        "             # Check for available time slots in reverse order (latest possible time slots)\n",
        "            if slot not in used_slots:\n",
        "                # If the time slot is not used\n",
        "                # Assign the job to the time slot\n",
        "                schedule[slot-1] = job\n",
        "                used_slots.add(slot) # Add the time slot to the set of used slots\n",
        "                break   #Move on to the next job\n",
        "    # compute total profit and number of assigned jobs   \n",
        "    total_profit = sum(job[2] for job in schedule if job is not None)  #Calculate the total profit of assigned jobs\n",
        "    num_jobs = sum(1 for job in schedule if job is not None)    #Count the number of assigned jobs\n",
        "    \n",
        "    return num_jobs, total_profit"
      ]
    },
    {
      "cell_type": "code",
      "execution_count": 2,
      "metadata": {
        "colab": {
          "base_uri": "https://localhost:8080/"
        },
        "id": "GOQqGWcCTskx",
        "outputId": "6c7d564a-ed0a-49b2-ef16-7a31f205e3bb"
      },
      "outputs": [
        {
          "output_type": "stream",
          "name": "stdout",
          "text": [
            "Number of jobs done: 2\n",
            "Maximum profit: 60\n"
          ]
        }
      ],
      "source": [
        "jobs = [(1, 4, 20), (2, 1, 10), (3, 1, 40), (4, 1, 30)]\n",
        "num_jobs, max_profit = max_profit(jobs)\n",
        "print(\"Number of jobs done:\", num_jobs)\n",
        "print(\"Maximum profit:\", max_profit)\n"
      ]
    }
  ],
  "metadata": {
    "kernelspec": {
      "display_name": "base",
      "language": "python",
      "name": "python3"
    },
    "language_info": {
      "codemirror_mode": {
        "name": "ipython",
        "version": 3
      },
      "file_extension": ".py",
      "mimetype": "text/x-python",
      "name": "python",
      "nbconvert_exporter": "python",
      "pygments_lexer": "ipython3",
      "version": "3.9.13"
    },
    "orig_nbformat": 4,
    "colab": {
      "provenance": []
    }
  },
  "nbformat": 4,
  "nbformat_minor": 0
}